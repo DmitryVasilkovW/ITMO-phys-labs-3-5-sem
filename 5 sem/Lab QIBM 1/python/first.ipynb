{
 "cells": [
  {
   "metadata": {
    "ExecuteTime": {
     "end_time": "2024-12-08T20:28:53.229532Z",
     "start_time": "2024-12-08T20:28:53.225124Z"
    }
   },
   "cell_type": "code",
   "source": [
    "import pandas as pd\n",
    "from qiskit import transpile\n",
    "from tabulate import tabulate\n",
    "from qiskit import QuantumRegister, ClassicalRegister, QuantumCircuit\n",
    "from qiskit_aer import AerSimulator\n",
    "from numpy import pi"
   ],
   "id": "b79259ea890c1375",
   "outputs": [],
   "execution_count": 2
  },
  {
   "metadata": {
    "ExecuteTime": {
     "end_time": "2024-12-08T20:28:53.661410Z",
     "start_time": "2024-12-08T20:28:53.655089Z"
    }
   },
   "cell_type": "code",
   "source": [
    "theta = 1.04720 # 🐓считать по варианту 🐔\n",
    "\n",
    "def get_df_combined(circuit, shots):\n",
    "    simulator = AerSimulator()\n",
    "    compiled_circuit = transpile(circuit, simulator)\n",
    "    result = simulator.run(compiled_circuit, shots=shots).result()\n",
    "\n",
    "    counts = result.get_counts()\n",
    "\n",
    "    data = {\n",
    "        'Shots': shots,\n",
    "        '|1⟩': counts.get('1', 0),\n",
    "        '|0⟩': counts.get('0', 0),\n",
    "    }\n",
    "\n",
    "    data_freq = {\n",
    "        'Shots': shots,\n",
    "        '|1⟩': data['|1⟩'] / shots,\n",
    "        '|0⟩': data['|0⟩'] / shots,\n",
    "    }\n",
    "\n",
    "    df_quantity = pd.DataFrame([data], columns=['Shots', '|1⟩', '|0⟩'])\n",
    "    df_frequency = pd.DataFrame([data_freq], columns=['Shots', '|1⟩', '|0⟩'])\n",
    "\n",
    "    df_combined = pd.concat([df_quantity, df_frequency.iloc[:, 1:]], axis=1)\n",
    "    df_combined.columns = pd.MultiIndex.from_tuples([\n",
    "        ('', 'Shots'),\n",
    "        ('Frequency (quantity)', '|1⟩'),\n",
    "        ('Frequency (quantity)', '|0⟩'),\n",
    "        ('Frequency (out of 1)', '|1⟩'),\n",
    "        ('Frequency (out of 1)', '|0⟩'),\n",
    "    ])\n",
    "\n",
    "    df_combined.columns = [' '.join(col).strip() for col in df_combined.columns]\n",
    "    \n",
    "    return df_combined\n",
    "    "
   ],
   "id": "77a3b0d908cf31d1",
   "outputs": [],
   "execution_count": 3
  },
  {
   "metadata": {},
   "cell_type": "markdown",
   "source": "#### 6.1. Получить кубит в состоянии суперпозиции ZALUPA",
   "id": "5d62d9bc2919eeab"
  },
  {
   "metadata": {
    "ExecuteTime": {
     "end_time": "2024-12-08T20:28:53.930098Z",
     "start_time": "2024-12-08T20:28:53.705203Z"
    }
   },
   "cell_type": "code",
   "source": [
    "qreg_q = QuantumRegister(1, 'q')\n",
    "creg_c = ClassicalRegister(1, 'c')\n",
    "circuit = QuantumCircuit(qreg_q, creg_c)\n",
    "\n",
    "circuit.h(qreg_q[0])\n",
    "circuit.barrier(qreg_q)\n",
    "# @phaseDisk\n",
    "circuit.measure(qreg_q[0], creg_c[0])\n",
    "\n",
    "shots = 1024\n",
    "df_combined = get_df_combined(circuit, shots)\n",
    "\n",
    "print(tabulate(df_combined, headers='keys', tablefmt='pretty', stralign='center'))"
   ],
   "id": "fc7c4e52ec30138",
   "outputs": [
    {
     "name": "stdout",
     "output_type": "stream",
     "text": [
      "+---+--------+--------------------------+--------------------------+--------------------------+--------------------------+\n",
      "|   | Shots  | Frequency (quantity) |1⟩ | Frequency (quantity) |0⟩ | Frequency (out of 1) |1⟩ | Frequency (out of 1) |0⟩ |\n",
      "+---+--------+--------------------------+--------------------------+--------------------------+--------------------------+\n",
      "| 0 | 1024.0 |          513.0           |          511.0           |       0.5009765625       |       0.4990234375       |\n",
      "+---+--------+--------------------------+--------------------------+--------------------------+--------------------------+\n"
     ]
    }
   ],
   "execution_count": 4
  },
  {
   "metadata": {},
   "cell_type": "markdown",
   "source": "#### 6.2 Двумя способами получите кубит в состоянии суперпозиции ZALUPA",
   "id": "e73c27a04ff58b67"
  },
  {
   "metadata": {
    "ExecuteTime": {
     "end_time": "2024-12-08T20:28:54.114928Z",
     "start_time": "2024-12-08T20:28:53.932837Z"
    }
   },
   "cell_type": "code",
   "source": [
    "# FIRST\n",
    "\n",
    "qreg_q = QuantumRegister(1, 'q')\n",
    "creg_c = ClassicalRegister(1, 'c')\n",
    "circuit = QuantumCircuit(qreg_q, creg_c)\n",
    "\n",
    "circuit.x(qreg_q[0])\n",
    "circuit.h(qreg_q[0])\n",
    "circuit.barrier(qreg_q)\n",
    "# @phaseDisk\n",
    "circuit.measure(qreg_q[0], creg_c[0])\n",
    "\n",
    "shots = 1024\n",
    "df_combined = get_df_combined(circuit, shots)\n",
    "\n",
    "print(tabulate(df_combined, headers='keys', tablefmt='pretty', stralign='center'))"
   ],
   "id": "be7e1948bf5a7c14",
   "outputs": [
    {
     "name": "stdout",
     "output_type": "stream",
     "text": [
      "+---+--------+--------------------------+--------------------------+--------------------------+--------------------------+\n",
      "|   | Shots  | Frequency (quantity) |1⟩ | Frequency (quantity) |0⟩ | Frequency (out of 1) |1⟩ | Frequency (out of 1) |0⟩ |\n",
      "+---+--------+--------------------------+--------------------------+--------------------------+--------------------------+\n",
      "| 0 | 1024.0 |          526.0           |          498.0           |       0.513671875        |       0.486328125        |\n",
      "+---+--------+--------------------------+--------------------------+--------------------------+--------------------------+\n"
     ]
    }
   ],
   "execution_count": 5
  },
  {
   "metadata": {
    "ExecuteTime": {
     "end_time": "2024-12-08T20:28:54.261702Z",
     "start_time": "2024-12-08T20:28:54.117908Z"
    }
   },
   "cell_type": "code",
   "source": [
    "# SECOND\n",
    "\n",
    "qreg_q = QuantumRegister(1, 'q')\n",
    "creg_c = ClassicalRegister(1, 'c')\n",
    "circuit = QuantumCircuit(qreg_q, creg_c)\n",
    "\n",
    "circuit.h(qreg_q[0])\n",
    "circuit.z(qreg_q[0])\n",
    "circuit.barrier(qreg_q)\n",
    "# @phaseDisk\n",
    "circuit.measure(qreg_q[0], creg_c[0])\n",
    "\n",
    "shots = 1024\n",
    "df_combined = get_df_combined(circuit, shots)\n",
    "\n",
    "print(tabulate(df_combined, headers='keys', tablefmt='pretty', stralign='center'))"
   ],
   "id": "28074698fb0923d",
   "outputs": [
    {
     "name": "stdout",
     "output_type": "stream",
     "text": [
      "+---+--------+--------------------------+--------------------------+--------------------------+--------------------------+\n",
      "|   | Shots  | Frequency (quantity) |1⟩ | Frequency (quantity) |0⟩ | Frequency (out of 1) |1⟩ | Frequency (out of 1) |0⟩ |\n",
      "+---+--------+--------------------------+--------------------------+--------------------------+--------------------------+\n",
      "| 0 | 1024.0 |          512.0           |          512.0           |           0.5            |           0.5            |\n",
      "+---+--------+--------------------------+--------------------------+--------------------------+--------------------------+\n"
     ]
    }
   ],
   "execution_count": 6
  },
  {
   "metadata": {},
   "cell_type": "markdown",
   "source": "#### 6.3 Получите кубит в состоянии суперпозиции ZALUPA",
   "id": "7b28e6ac56e1e535"
  },
  {
   "metadata": {
    "ExecuteTime": {
     "end_time": "2024-12-08T20:28:54.456747Z",
     "start_time": "2024-12-08T20:28:54.264541Z"
    }
   },
   "cell_type": "code",
   "source": [
    "qreg_q = QuantumRegister(1, 'q')\n",
    "creg_c = ClassicalRegister(1, 'c')\n",
    "circuit = QuantumCircuit(qreg_q, creg_c)\n",
    "\n",
    "circuit.x(qreg_q[0])\n",
    "circuit.h(qreg_q[0])\n",
    "circuit.x(qreg_q[0])\n",
    "circuit.barrier(qreg_q)\n",
    "# @phaseDisk\n",
    "circuit.measure(qreg_q[0], creg_c[0])\n",
    "\n",
    "shots = 1024\n",
    "df_combined = get_df_combined(circuit, shots)\n",
    "\n",
    "print(tabulate(df_combined, headers='keys', tablefmt='pretty', stralign='center'))"
   ],
   "id": "dfe8244f5d6f36dc",
   "outputs": [
    {
     "name": "stdout",
     "output_type": "stream",
     "text": [
      "+---+--------+--------------------------+--------------------------+--------------------------+--------------------------+\n",
      "|   | Shots  | Frequency (quantity) |1⟩ | Frequency (quantity) |0⟩ | Frequency (out of 1) |1⟩ | Frequency (out of 1) |0⟩ |\n",
      "+---+--------+--------------------------+--------------------------+--------------------------+--------------------------+\n",
      "| 0 | 1024.0 |          511.0           |          513.0           |       0.4990234375       |       0.5009765625       |\n",
      "+---+--------+--------------------------+--------------------------+--------------------------+--------------------------+\n"
     ]
    }
   ],
   "execution_count": 7
  },
  {
   "metadata": {},
   "cell_type": "markdown",
   "source": "#### 6.4 С помощью вентиля RX создайте кубит в состоянии ...",
   "id": "6a4e4295f3760b01"
  },
  {
   "metadata": {
    "ExecuteTime": {
     "end_time": "2024-12-08T20:52:31.504010Z",
     "start_time": "2024-12-08T20:52:31.321366Z"
    }
   },
   "cell_type": "code",
   "source": [
    "qreg_q = QuantumRegister(1, 'q')\n",
    "creg_c = ClassicalRegister(1, 'c')\n",
    "circuit = QuantumCircuit(qreg_q, creg_c)\n",
    "\n",
    "circuit.reset(qreg_q[0])\n",
    "circuit.rx(theta, qreg_q[0])\n",
    "circuit.p(pi / 2, qreg_q[0])\n",
    "circuit.barrier(qreg_q)\n",
    "# @phaseDisk\n",
    "circuit.measure(qreg_q[0], creg_c[0])\n",
    "\n",
    "shots = 2048\n",
    "df_combined = get_df_combined(circuit, shots)\n",
    "\n",
    "print(tabulate(df_combined, headers='keys', tablefmt='pretty', stralign='center'))"
   ],
   "id": "3e87d00c27abf78f",
   "outputs": [
    {
     "name": "stdout",
     "output_type": "stream",
     "text": [
      "+---+--------+--------------------------+--------------------------+--------------------------+--------------------------+\n",
      "|   | Shots  | Frequency (quantity) |1⟩ | Frequency (quantity) |0⟩ | Frequency (out of 1) |1⟩ | Frequency (out of 1) |0⟩ |\n",
      "+---+--------+--------------------------+--------------------------+--------------------------+--------------------------+\n",
      "| 0 | 2048.0 |          521.0           |          1527.0          |      0.25439453125       |      0.74560546875       |\n",
      "+---+--------+--------------------------+--------------------------+--------------------------+--------------------------+\n"
     ]
    }
   ],
   "execution_count": 32
  },
  {
   "metadata": {},
   "cell_type": "markdown",
   "source": "#### 6.5 С помощью однокубитного вентиля RY получите кубит в состоянии суперпозиции ...",
   "id": "3aa27c5a1f2ff412"
  },
  {
   "metadata": {
    "ExecuteTime": {
     "end_time": "2024-12-08T20:28:54.754666Z",
     "start_time": "2024-12-08T20:28:54.597845Z"
    }
   },
   "cell_type": "code",
   "source": [
    "qreg_q = QuantumRegister(1, 'q')\n",
    "creg_c = ClassicalRegister(1, 'c')\n",
    "circuit = QuantumCircuit(qreg_q, creg_c)\n",
    "\n",
    "circuit.reset(qreg_q[0])\n",
    "circuit.ry(theta, qreg_q[0])\n",
    "circuit.barrier(qreg_q)\n",
    "# @phaseDisk\n",
    "\n",
    "circuit.measure(qreg_q[0], creg_c[0])\n",
    "\n",
    "shots = 2048\n",
    "df_combined = get_df_combined(circuit, shots)\n",
    "\n",
    "print(tabulate(df_combined, headers='keys', tablefmt='pretty', stralign='center'))"
   ],
   "id": "6763c11b11e2e8ed",
   "outputs": [
    {
     "name": "stdout",
     "output_type": "stream",
     "text": [
      "+---+--------+--------------------------+--------------------------+--------------------------+--------------------------+\n",
      "|   | Shots  | Frequency (quantity) |1⟩ | Frequency (quantity) |0⟩ | Frequency (out of 1) |1⟩ | Frequency (out of 1) |0⟩ |\n",
      "+---+--------+--------------------------+--------------------------+--------------------------+--------------------------+\n",
      "| 0 | 2048.0 |          498.0           |          1550.0          |       0.2431640625       |       0.7568359375       |\n",
      "+---+--------+--------------------------+--------------------------+--------------------------+--------------------------+\n"
     ]
    }
   ],
   "execution_count": 9
  },
  {
   "metadata": {},
   "cell_type": "markdown",
   "source": "#### 6.6 С помощью однокубитного вентиля U получите кубит в состоянии суперпозиции ",
   "id": "33b9b501dc38dd23"
  },
  {
   "metadata": {
    "ExecuteTime": {
     "end_time": "2024-12-08T20:28:54.912488Z",
     "start_time": "2024-12-08T20:28:54.758331Z"
    }
   },
   "cell_type": "code",
   "source": [
    "qreg_q = QuantumRegister(1, 'q')\n",
    "creg_c = ClassicalRegister(1, 'c')\n",
    "circuit = QuantumCircuit(qreg_q, creg_c)\n",
    "\n",
    "circuit.reset(qreg_q[0])\n",
    "circuit.u(theta, 0, 0, qreg_q[0])\n",
    "circuit.barrier(qreg_q)\n",
    "# @phaseDisk\n",
    "circuit.measure(qreg_q[0], creg_c[0])\n",
    "\n",
    "shots = 2048\n",
    "df_combined = get_df_combined(circuit, shots)\n",
    "\n",
    "print(tabulate(df_combined, headers='keys', tablefmt='pretty', stralign='center'))"
   ],
   "id": "1939ae2e3765f8bc",
   "outputs": [
    {
     "name": "stdout",
     "output_type": "stream",
     "text": [
      "+---+--------+--------------------------+--------------------------+--------------------------+--------------------------+\n",
      "|   | Shots  | Frequency (quantity) |1⟩ | Frequency (quantity) |0⟩ | Frequency (out of 1) |1⟩ | Frequency (out of 1) |0⟩ |\n",
      "+---+--------+--------------------------+--------------------------+--------------------------+--------------------------+\n",
      "| 0 | 2048.0 |          532.0           |          1516.0          |       0.259765625        |       0.740234375        |\n",
      "+---+--------+--------------------------+--------------------------+--------------------------+--------------------------+\n"
     ]
    }
   ],
   "execution_count": 10
  },
  {
   "metadata": {},
   "cell_type": "markdown",
   "source": "#### 6.7 С помощью однокубитного вентиля RX получите кубит в состоянии суперпозиции",
   "id": "79645eadb6120069"
  },
  {
   "metadata": {
    "ExecuteTime": {
     "end_time": "2024-12-08T20:28:55.061953Z",
     "start_time": "2024-12-08T20:28:54.914371Z"
    }
   },
   "cell_type": "code",
   "source": [
    "qreg_q = QuantumRegister(1, 'q')\n",
    "creg_c = ClassicalRegister(1, 'c')\n",
    "circuit = QuantumCircuit(qreg_q, creg_c)\n",
    "\n",
    "circuit.reset(qreg_q[0])\n",
    "circuit.rx(theta, qreg_q[0])\n",
    "circuit.p(pi / 2, qreg_q[0])\n",
    "circuit.z(qreg_q[0])\n",
    "circuit.barrier(qreg_q)\n",
    "# @phaseDisk\n",
    "circuit.measure(qreg_q[0], creg_c[0])\n",
    "\n",
    "simulator = AerSimulator()\n",
    "\n",
    "shots = 2048\n",
    "df_combined = get_df_combined(circuit, shots)\n",
    "\n",
    "print(tabulate(df_combined, headers='keys', tablefmt='pretty', stralign='center'))"
   ],
   "id": "66919cd79361ab52",
   "outputs": [
    {
     "name": "stdout",
     "output_type": "stream",
     "text": [
      "+---+--------+--------------------------+--------------------------+--------------------------+--------------------------+\n",
      "|   | Shots  | Frequency (quantity) |1⟩ | Frequency (quantity) |0⟩ | Frequency (out of 1) |1⟩ | Frequency (out of 1) |0⟩ |\n",
      "+---+--------+--------------------------+--------------------------+--------------------------+--------------------------+\n",
      "| 0 | 2048.0 |          509.0           |          1539.0          |      0.24853515625       |      0.75146484375       |\n",
      "+---+--------+--------------------------+--------------------------+--------------------------+--------------------------+\n"
     ]
    }
   ],
   "execution_count": 11
  },
  {
   "metadata": {},
   "cell_type": "markdown",
   "source": "#### 6.8 С помощью однокубитного вентиля RY получите кубит в состоянии суперпозиции",
   "id": "c807a616599bdc0f"
  },
  {
   "metadata": {
    "ExecuteTime": {
     "end_time": "2024-12-08T20:28:55.205937Z",
     "start_time": "2024-12-08T20:28:55.063883Z"
    }
   },
   "cell_type": "code",
   "source": [
    "qreg_q = QuantumRegister(1, 'q')\n",
    "creg_c = ClassicalRegister(1, 'c')\n",
    "circuit = QuantumCircuit(qreg_q, creg_c)\n",
    "\n",
    "circuit.reset(qreg_q[0])\n",
    "circuit.ry(theta, qreg_q[0])\n",
    "circuit.z(qreg_q[0])\n",
    "circuit.barrier(qreg_q)\n",
    "# @phaseDisk\n",
    "circuit.measure(qreg_q[0], creg_c[0])\n",
    "\n",
    "shots = 2048\n",
    "df_combined = get_df_combined(circuit, shots)\n",
    "\n",
    "print(tabulate(df_combined, headers='keys', tablefmt='pretty', stralign='center'))"
   ],
   "id": "dc0fff01c8f4640f",
   "outputs": [
    {
     "name": "stdout",
     "output_type": "stream",
     "text": [
      "+---+--------+--------------------------+--------------------------+--------------------------+--------------------------+\n",
      "|   | Shots  | Frequency (quantity) |1⟩ | Frequency (quantity) |0⟩ | Frequency (out of 1) |1⟩ | Frequency (out of 1) |0⟩ |\n",
      "+---+--------+--------------------------+--------------------------+--------------------------+--------------------------+\n",
      "| 0 | 2048.0 |          517.0           |          1531.0          |      0.25244140625       |      0.74755859375       |\n",
      "+---+--------+--------------------------+--------------------------+--------------------------+--------------------------+\n"
     ]
    }
   ],
   "execution_count": 12
  },
  {
   "metadata": {},
   "cell_type": "markdown",
   "source": "#### 6.9 С помощью однокубитного вентиля U получите кубит в состоянии суперпозиции ...",
   "id": "973b12aa93ab778d"
  },
  {
   "metadata": {
    "ExecuteTime": {
     "end_time": "2024-12-08T20:28:55.351748Z",
     "start_time": "2024-12-08T20:28:55.208711Z"
    }
   },
   "cell_type": "code",
   "source": [
    "qreg_q = QuantumRegister(1, 'q')\n",
    "creg_c = ClassicalRegister(1, 'c')\n",
    "circuit = QuantumCircuit(qreg_q, creg_c)\n",
    "\n",
    "circuit.reset(qreg_q[0])\n",
    "circuit.u(theta, 0, 0, qreg_q[0])\n",
    "circuit.z(qreg_q[0])\n",
    "circuit.barrier(qreg_q)\n",
    "# @phaseDisk\n",
    "circuit.measure(qreg_q[0], creg_c[0])\n",
    "\n",
    "shots = 2048\n",
    "df_combined = get_df_combined(circuit, shots)\n",
    "\n",
    "print(tabulate(df_combined, headers='keys', tablefmt='pretty', stralign='center'))"
   ],
   "id": "73a24fcd9d0717c5",
   "outputs": [
    {
     "name": "stdout",
     "output_type": "stream",
     "text": [
      "+---+--------+--------------------------+--------------------------+--------------------------+--------------------------+\n",
      "|   | Shots  | Frequency (quantity) |1⟩ | Frequency (quantity) |0⟩ | Frequency (out of 1) |1⟩ | Frequency (out of 1) |0⟩ |\n",
      "+---+--------+--------------------------+--------------------------+--------------------------+--------------------------+\n",
      "| 0 | 2048.0 |          487.0           |          1561.0          |      0.23779296875       |      0.76220703125       |\n",
      "+---+--------+--------------------------+--------------------------+--------------------------+--------------------------+\n"
     ]
    }
   ],
   "execution_count": 13
  },
  {
   "metadata": {},
   "cell_type": "markdown",
   "source": [
    "#### 6.10  С помощью вентилей поворота получите кубит в состоянии\n",
    "##### за это хз"
   ],
   "id": "c58042047eb389de"
  },
  {
   "metadata": {
    "ExecuteTime": {
     "end_time": "2024-12-08T20:28:55.495043Z",
     "start_time": "2024-12-08T20:28:55.354267Z"
    }
   },
   "cell_type": "code",
   "source": [
    "qreg_q = QuantumRegister(1, 'q')\n",
    "creg_c = ClassicalRegister(1, 'c')\n",
    "circuit = QuantumCircuit(qreg_q, creg_c)\n",
    "\n",
    "circuit.reset(qreg_q[0])\n",
    "circuit.ry(theta, qreg_q[0])\n",
    "circuit.rz(pi, qreg_q[0])    # за это хз\n",
    "circuit.rz(pi, qreg_q[0])    # не ебу что они по тз хотели получить\n",
    "circuit.barrier(qreg_q)      # по факту это получилось +- тоже-самое, как и в 6.5\n",
    "# @phaseDisk\n",
    "circuit.measure(qreg_q[0], creg_c[0])\n",
    "\n",
    "shots = 2048\n",
    "df_combined = get_df_combined(circuit, shots)\n",
    "\n",
    "print(tabulate(df_combined, headers='keys', tablefmt='pretty', stralign='center'))"
   ],
   "id": "8a2ede7718386da7",
   "outputs": [
    {
     "name": "stdout",
     "output_type": "stream",
     "text": [
      "+---+--------+--------------------------+--------------------------+--------------------------+--------------------------+\n",
      "|   | Shots  | Frequency (quantity) |1⟩ | Frequency (quantity) |0⟩ | Frequency (out of 1) |1⟩ | Frequency (out of 1) |0⟩ |\n",
      "+---+--------+--------------------------+--------------------------+--------------------------+--------------------------+\n",
      "| 0 | 2048.0 |          500.0           |          1548.0          |       0.244140625        |       0.755859375        |\n",
      "+---+--------+--------------------------+--------------------------+--------------------------+--------------------------+\n"
     ]
    }
   ],
   "execution_count": 14
  },
  {
   "metadata": {},
   "cell_type": "markdown",
   "source": "#### 6.11 С помощью вентиля RX получите кубит в состоянии суперпозиции =>",
   "id": "556dbad9ca720dad"
  },
  {
   "metadata": {
    "ExecuteTime": {
     "end_time": "2024-12-08T20:28:55.758131Z",
     "start_time": "2024-12-08T20:28:55.578542Z"
    }
   },
   "cell_type": "code",
   "source": [
    "qreg_q = QuantumRegister(1, 'q')\n",
    "creg_c = ClassicalRegister(1, 'c')\n",
    "circuit = QuantumCircuit(qreg_q, creg_c)\n",
    "\n",
    "circuit.reset(qreg_q[0])\n",
    "circuit.rx(theta, qreg_q[0])\n",
    "circuit.rz(pi / 2, qreg_q[0])\n",
    "circuit.barrier(qreg_q)\n",
    "# @phaseDisk\n",
    "circuit.measure(qreg_q[0], creg_c[0])\n",
    "\n",
    "shots = 2048\n",
    "df_combined = get_df_combined(circuit, shots)\n",
    "\n",
    "print(tabulate(df_combined, headers='keys', tablefmt='pretty', stralign='center'))"
   ],
   "id": "aa319f2a65571224",
   "outputs": [
    {
     "name": "stdout",
     "output_type": "stream",
     "text": [
      "+---+--------+--------------------------+--------------------------+--------------------------+--------------------------+\n",
      "|   | Shots  | Frequency (quantity) |1⟩ | Frequency (quantity) |0⟩ | Frequency (out of 1) |1⟩ | Frequency (out of 1) |0⟩ |\n",
      "+---+--------+--------------------------+--------------------------+--------------------------+--------------------------+\n",
      "| 0 | 2048.0 |          531.0           |          1517.0          |      0.25927734375       |      0.74072265625       |\n",
      "+---+--------+--------------------------+--------------------------+--------------------------+--------------------------+\n"
     ]
    }
   ],
   "execution_count": 15
  },
  {
   "metadata": {},
   "cell_type": "markdown",
   "source": "##### => Далее составьте схему, представленную на рис. 20",
   "id": "95cdc1130647cf2b"
  },
  {
   "metadata": {
    "ExecuteTime": {
     "end_time": "2024-12-08T20:28:56.141214Z",
     "start_time": "2024-12-08T20:28:56.004192Z"
    }
   },
   "cell_type": "code",
   "source": [
    "qreg_q = QuantumRegister(1, 'q')\n",
    "creg_c = ClassicalRegister(1, 'c')\n",
    "circuit = QuantumCircuit(qreg_q, creg_c)\n",
    "\n",
    "circuit.reset(qreg_q[0])\n",
    "circuit.rx(0.927, qreg_q[0])\n",
    "circuit.h(qreg_q[0])\n",
    "circuit.barrier(qreg_q)\n",
    "# @phaseDisk\n",
    "circuit.measure(qreg_q[0], creg_c[0])\n",
    "\n",
    "shots = 2048\n",
    "df_combined = get_df_combined(circuit, shots)\n",
    "\n",
    "print(tabulate(df_combined, headers='keys', tablefmt='pretty', stralign='center'))"
   ],
   "id": "b54a070df7891934",
   "outputs": [
    {
     "name": "stdout",
     "output_type": "stream",
     "text": [
      "+---+--------+--------------------------+--------------------------+--------------------------+--------------------------+\n",
      "|   | Shots  | Frequency (quantity) |1⟩ | Frequency (quantity) |0⟩ | Frequency (out of 1) |1⟩ | Frequency (out of 1) |0⟩ |\n",
      "+---+--------+--------------------------+--------------------------+--------------------------+--------------------------+\n",
      "| 0 | 2048.0 |          1004.0          |          1044.0          |       0.490234375        |       0.509765625        |\n",
      "+---+--------+--------------------------+--------------------------+--------------------------+--------------------------+\n"
     ]
    }
   ],
   "execution_count": 16
  },
  {
   "metadata": {},
   "cell_type": "markdown",
   "source": "#### 6.12. С помощью вентиля Rx получите кубит в состоянии суперпозиции =>",
   "id": "608f0b274d40096"
  },
  {
   "metadata": {
    "ExecuteTime": {
     "end_time": "2024-12-08T20:28:56.754061Z",
     "start_time": "2024-12-08T20:28:56.586386Z"
    }
   },
   "cell_type": "code",
   "source": [
    "qreg_q = QuantumRegister(1, 'q')\n",
    "creg_c = ClassicalRegister(1, 'c')\n",
    "circuit = QuantumCircuit(qreg_q, creg_c)\n",
    "\n",
    "circuit.reset(qreg_q[0])\n",
    "circuit.rx(theta, qreg_q[0])\n",
    "circuit.h(qreg_q[0])\n",
    "circuit.h(qreg_q[0])\n",
    "circuit.rz(pi / 2, qreg_q[0])\n",
    "circuit.barrier(qreg_q)\n",
    "# @phaseDisk\n",
    "circuit.measure(qreg_q[0], creg_c[0])\n",
    "\n",
    "shots = 2048\n",
    "df_combined = get_df_combined(circuit, shots)\n",
    "\n",
    "print(tabulate(df_combined, headers='keys', tablefmt='pretty', stralign='center'))"
   ],
   "id": "2282b103e5c12e5",
   "outputs": [
    {
     "name": "stdout",
     "output_type": "stream",
     "text": [
      "+---+--------+--------------------------+--------------------------+--------------------------+--------------------------+\n",
      "|   | Shots  | Frequency (quantity) |1⟩ | Frequency (quantity) |0⟩ | Frequency (out of 1) |1⟩ | Frequency (out of 1) |0⟩ |\n",
      "+---+--------+--------------------------+--------------------------+--------------------------+--------------------------+\n",
      "| 0 | 2048.0 |          509.0           |          1539.0          |      0.24853515625       |      0.75146484375       |\n",
      "+---+--------+--------------------------+--------------------------+--------------------------+--------------------------+\n"
     ]
    }
   ],
   "execution_count": 17
  },
  {
   "metadata": {},
   "cell_type": "markdown",
   "source": "##### => Далее составьте схему, представленную на рис. 21",
   "id": "10eb8d1468005b76"
  },
  {
   "metadata": {
    "ExecuteTime": {
     "end_time": "2024-12-08T20:28:57.102183Z",
     "start_time": "2024-12-08T20:28:56.970574Z"
    }
   },
   "cell_type": "code",
   "source": [
    "qreg_q = QuantumRegister(1, 'q')\n",
    "creg_c = ClassicalRegister(1, 'c')\n",
    "circuit = QuantumCircuit(qreg_q, creg_c)\n",
    "\n",
    "circuit.rx(0.927, qreg_q[0])\n",
    "circuit.h(qreg_q[0])\n",
    "circuit.h(qreg_q[0])\n",
    "circuit.measure(qreg_q[0], creg_c[0])\n",
    "circuit.barrier(qreg_q)\n",
    "# @phaseDisk\n",
    "\n",
    "shots = 2048\n",
    "df_combined = get_df_combined(circuit, shots)\n",
    "\n",
    "print(tabulate(df_combined, headers='keys', tablefmt='pretty', stralign='center'))"
   ],
   "id": "609d5cd9418ad6d1",
   "outputs": [
    {
     "name": "stdout",
     "output_type": "stream",
     "text": [
      "+---+--------+--------------------------+--------------------------+--------------------------+--------------------------+\n",
      "|   | Shots  | Frequency (quantity) |1⟩ | Frequency (quantity) |0⟩ | Frequency (out of 1) |1⟩ | Frequency (out of 1) |0⟩ |\n",
      "+---+--------+--------------------------+--------------------------+--------------------------+--------------------------+\n",
      "| 0 | 2048.0 |          397.0           |          1651.0          |      0.19384765625       |      0.80615234375       |\n",
      "+---+--------+--------------------------+--------------------------+--------------------------+--------------------------+\n"
     ]
    }
   ],
   "execution_count": 18
  },
  {
   "metadata": {},
   "cell_type": "markdown",
   "source": "#### 6.13. Соберите квантовые схемы показанные на рис. 22.",
   "id": "1f298a4d5a725193"
  },
  {
   "metadata": {},
   "cell_type": "markdown",
   "source": "##### A",
   "id": "4e744c61775e16bc"
  },
  {
   "metadata": {
    "ExecuteTime": {
     "end_time": "2024-12-08T20:28:57.387654Z",
     "start_time": "2024-12-08T20:28:57.252623Z"
    }
   },
   "cell_type": "code",
   "source": [
    "qreg_q = QuantumRegister(1, 'q')\n",
    "creg_c = ClassicalRegister(1, 'c')\n",
    "circuit = QuantumCircuit(qreg_q, creg_c)\n",
    "\n",
    "circuit.h(qreg_q[0])\n",
    "circuit.measure(qreg_q[0], creg_c[0])\n",
    "circuit.barrier(qreg_q)\n",
    "# @phaseDisk\n",
    "\n",
    "shots = 2048\n",
    "df_combined = get_df_combined(circuit, shots)\n",
    "\n",
    "print(tabulate(df_combined, headers='keys', tablefmt='pretty', stralign='center'))"
   ],
   "id": "220e128ee4bcbc3e",
   "outputs": [
    {
     "name": "stdout",
     "output_type": "stream",
     "text": [
      "+---+--------+--------------------------+--------------------------+--------------------------+--------------------------+\n",
      "|   | Shots  | Frequency (quantity) |1⟩ | Frequency (quantity) |0⟩ | Frequency (out of 1) |1⟩ | Frequency (out of 1) |0⟩ |\n",
      "+---+--------+--------------------------+--------------------------+--------------------------+--------------------------+\n",
      "| 0 | 2048.0 |          990.0           |          1058.0          |       0.4833984375       |       0.5166015625       |\n",
      "+---+--------+--------------------------+--------------------------+--------------------------+--------------------------+\n"
     ]
    }
   ],
   "execution_count": 19
  },
  {
   "metadata": {},
   "cell_type": "markdown",
   "source": "##### B",
   "id": "23c6c79785c40b72"
  },
  {
   "metadata": {
    "ExecuteTime": {
     "end_time": "2024-12-08T20:28:57.571038Z",
     "start_time": "2024-12-08T20:28:57.429958Z"
    }
   },
   "cell_type": "code",
   "source": [
    "qreg_q = QuantumRegister(1, 'q')\n",
    "creg_c = ClassicalRegister(1, 'c')\n",
    "circuit = QuantumCircuit(qreg_q, creg_c)\n",
    "\n",
    "circuit.x(qreg_q[0])\n",
    "circuit.h(qreg_q[0])\n",
    "circuit.measure(qreg_q[0], creg_c[0])\n",
    "circuit.barrier(qreg_q)\n",
    "# @phaseDisk\n",
    "\n",
    "shots = 2048\n",
    "df_combined = get_df_combined(circuit, shots)\n",
    "\n",
    "print(tabulate(df_combined, headers='keys', tablefmt='pretty', stralign='center'))"
   ],
   "id": "4e08e55020d6d48d",
   "outputs": [
    {
     "name": "stdout",
     "output_type": "stream",
     "text": [
      "+---+--------+--------------------------+--------------------------+--------------------------+--------------------------+\n",
      "|   | Shots  | Frequency (quantity) |1⟩ | Frequency (quantity) |0⟩ | Frequency (out of 1) |1⟩ | Frequency (out of 1) |0⟩ |\n",
      "+---+--------+--------------------------+--------------------------+--------------------------+--------------------------+\n",
      "| 0 | 2048.0 |          1011.0          |          1037.0          |      0.49365234375       |      0.50634765625       |\n",
      "+---+--------+--------------------------+--------------------------+--------------------------+--------------------------+\n"
     ]
    }
   ],
   "execution_count": 20
  },
  {
   "metadata": {},
   "cell_type": "markdown",
   "source": "##### C",
   "id": "1226d2e32504f2ad"
  },
  {
   "metadata": {
    "ExecuteTime": {
     "end_time": "2024-12-08T20:28:57.819953Z",
     "start_time": "2024-12-08T20:28:57.674941Z"
    }
   },
   "cell_type": "code",
   "source": [
    "qreg_q = QuantumRegister(1, 'q')\n",
    "creg_c = ClassicalRegister(1, 'c')\n",
    "circuit = QuantumCircuit(qreg_q, creg_c)\n",
    "\n",
    "circuit.h(qreg_q[0])\n",
    "circuit.z(qreg_q[0])\n",
    "circuit.measure(qreg_q[0], creg_c[0])\n",
    "circuit.barrier(qreg_q)\n",
    "# @phaseDisk\n",
    "\n",
    "shots = 2048\n",
    "df_combined = get_df_combined(circuit, shots)\n",
    "\n",
    "print(tabulate(df_combined, headers='keys', tablefmt='pretty', stralign='center'))"
   ],
   "id": "fdf13cdc84124e05",
   "outputs": [
    {
     "name": "stdout",
     "output_type": "stream",
     "text": [
      "+---+--------+--------------------------+--------------------------+--------------------------+--------------------------+\n",
      "|   | Shots  | Frequency (quantity) |1⟩ | Frequency (quantity) |0⟩ | Frequency (out of 1) |1⟩ | Frequency (out of 1) |0⟩ |\n",
      "+---+--------+--------------------------+--------------------------+--------------------------+--------------------------+\n",
      "| 0 | 2048.0 |          1033.0          |          1015.0          |      0.50439453125       |      0.49560546875       |\n",
      "+---+--------+--------------------------+--------------------------+--------------------------+--------------------------+\n"
     ]
    }
   ],
   "execution_count": 21
  },
  {
   "metadata": {},
   "cell_type": "markdown",
   "source": "#### 6.14. Соберите квантовые схемы показанные на рис. 23",
   "id": "b7bfb8a50942c574"
  },
  {
   "metadata": {},
   "cell_type": "markdown",
   "source": "##### A",
   "id": "61b314808f9843a3"
  },
  {
   "metadata": {
    "ExecuteTime": {
     "end_time": "2024-12-08T20:28:58.075343Z",
     "start_time": "2024-12-08T20:28:57.917364Z"
    }
   },
   "cell_type": "code",
   "source": [
    "qreg_q = QuantumRegister(2, 'q')\n",
    "creg_c = ClassicalRegister(1, 'c')\n",
    "circuit = QuantumCircuit(qreg_q, creg_c)\n",
    "\n",
    "circuit.h(qreg_q[0])\n",
    "circuit.h(qreg_q[1])\n",
    "circuit.measure(qreg_q[0], creg_c[0])\n",
    "circuit.measure(qreg_q[1], creg_c[0])\n",
    "circuit.barrier(qreg_q)\n",
    "# @phaseDisk\n",
    "\n",
    "shots = 2048\n",
    "df_combined = get_df_combined(circuit, shots)\n",
    "\n",
    "print(tabulate(df_combined, headers='keys', tablefmt='pretty', stralign='center'))"
   ],
   "id": "c61d658f0f2e96ea",
   "outputs": [
    {
     "name": "stdout",
     "output_type": "stream",
     "text": [
      "+---+--------+--------------------------+--------------------------+--------------------------+--------------------------+\n",
      "|   | Shots  | Frequency (quantity) |1⟩ | Frequency (quantity) |0⟩ | Frequency (out of 1) |1⟩ | Frequency (out of 1) |0⟩ |\n",
      "+---+--------+--------------------------+--------------------------+--------------------------+--------------------------+\n",
      "| 0 | 2048.0 |          1012.0          |          1036.0          |       0.494140625        |       0.505859375        |\n",
      "+---+--------+--------------------------+--------------------------+--------------------------+--------------------------+\n"
     ]
    }
   ],
   "execution_count": 22
  },
  {
   "metadata": {},
   "cell_type": "markdown",
   "source": "##### B",
   "id": "55893bbc90355806"
  },
  {
   "metadata": {
    "ExecuteTime": {
     "end_time": "2024-12-08T20:28:58.282679Z",
     "start_time": "2024-12-08T20:28:58.132903Z"
    }
   },
   "cell_type": "code",
   "source": [
    "qreg_q = QuantumRegister(2, 'q')\n",
    "creg_c = ClassicalRegister(1, 'c')\n",
    "circuit = QuantumCircuit(qreg_q, creg_c)\n",
    "\n",
    "circuit.h(qreg_q[0])\n",
    "circuit.x(qreg_q[1])\n",
    "circuit.h(qreg_q[1])\n",
    "circuit.measure(qreg_q[0], creg_c[0])\n",
    "circuit.measure(qreg_q[1], creg_c[0])\n",
    "circuit.barrier(qreg_q)\n",
    "# @phaseDisk\n",
    "\n",
    "shots = 2048\n",
    "df_combined = get_df_combined(circuit, shots)\n",
    "\n",
    "print(tabulate(df_combined, headers='keys', tablefmt='pretty', stralign='center'))"
   ],
   "id": "ed9a9c3f9c1eb003",
   "outputs": [
    {
     "name": "stdout",
     "output_type": "stream",
     "text": [
      "+---+--------+--------------------------+--------------------------+--------------------------+--------------------------+\n",
      "|   | Shots  | Frequency (quantity) |1⟩ | Frequency (quantity) |0⟩ | Frequency (out of 1) |1⟩ | Frequency (out of 1) |0⟩ |\n",
      "+---+--------+--------------------------+--------------------------+--------------------------+--------------------------+\n",
      "| 0 | 2048.0 |          982.0           |          1066.0          |       0.4794921875       |       0.5205078125       |\n",
      "+---+--------+--------------------------+--------------------------+--------------------------+--------------------------+\n"
     ]
    }
   ],
   "execution_count": 23
  }
 ],
 "metadata": {
  "kernelspec": {
   "display_name": "Python 3",
   "language": "python",
   "name": "python3"
  },
  "language_info": {
   "codemirror_mode": {
    "name": "ipython",
    "version": 2
   },
   "file_extension": ".py",
   "mimetype": "text/x-python",
   "name": "python",
   "nbconvert_exporter": "python",
   "pygments_lexer": "ipython2",
   "version": "2.7.6"
  }
 },
 "nbformat": 4,
 "nbformat_minor": 5
}
