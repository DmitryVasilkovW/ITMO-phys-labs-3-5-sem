{
 "cells": [
  {
   "cell_type": "code",
   "id": "initial_id",
   "metadata": {
    "collapsed": true,
    "ExecuteTime": {
     "end_time": "2024-12-09T17:11:18.279914Z",
     "start_time": "2024-12-09T17:11:14.277171Z"
    }
   },
   "source": [
    "import pandas as pd\n",
    "from tabulate import tabulate\n",
    "from qiskit import QuantumRegister, ClassicalRegister, QuantumCircuit\n",
    "from qiskit_aer import AerSimulator\n",
    "from qiskit.visualization import plot_histogram\n",
    "import matplotlib.pyplot as plt\n",
    "\n",
    "# Создаем квантовые и классические регистры\n",
    "qreg = QuantumRegister(2, 'q')  # Два кубита\n",
    "creg = ClassicalRegister(2, 'c')  # Два классических бита\n",
    "qc = QuantumCircuit(qreg, creg)  # Квантовая схема\n",
    "\n",
    "# Добавляем гейты\n",
    "qc.h(qreg[0])  # Hadamard на первом кубите\n",
    "qc.cx(qreg[0], qreg[1])  # CNOT с 0 -> 1\n",
    "qc.z(qreg[0])  # Z-гейт на первом кубите\n",
    "\n",
    "# Добавляем измерения\n",
    "qc.measure(qreg, creg)\n",
    "\n",
    "# Вывод схемы\n",
    "print(qc.draw(output='text'))\n",
    "\n",
    "# Симуляция\n",
    "simulator = AerSimulator()  # Инициализация симулятора\n",
    "job = simulator.run(qc, shots=1024)  # Запуск симуляции\n",
    "result = job.result()  # Получение результатов\n",
    "counts = result.get_counts(qc)  # Получение распределения состояний\n",
    "\n",
    "# Вывод результатов в табличной форме\n",
    "df = pd.DataFrame(counts.items(), columns=[\"Состояние\", \"Частота\"])\n",
    "print(\"\\nРезультаты измерений:\")\n",
    "print(tabulate(df, headers='keys', tablefmt='psql'))\n",
    "\n",
    "# Гистограмма результатов\n",
    "plot_histogram(counts)\n",
    "plt.show()\n"
   ],
   "outputs": [
    {
     "name": "stdout",
     "output_type": "stream",
     "text": [
      "     ┌───┐     ┌───┐┌─┐\n",
      "q_0: ┤ H ├──■──┤ Z ├┤M├\n",
      "     └───┘┌─┴─┐└┬─┬┘└╥┘\n",
      "q_1: ─────┤ X ├─┤M├──╫─\n",
      "          └───┘ └╥┘  ║ \n",
      "c: 2/════════════╩═══╩═\n",
      "                 1   0 \n",
      "\n",
      "Результаты измерений:\n",
      "+----+-------------+-----------+\n",
      "|    |   Состояние |   Частота |\n",
      "|----+-------------+-----------|\n",
      "|  0 |          00 |       509 |\n",
      "|  1 |          11 |       515 |\n",
      "+----+-------------+-----------+\n"
     ]
    }
   ],
   "execution_count": 1
  },
  {
   "metadata": {},
   "cell_type": "code",
   "outputs": [],
   "execution_count": null,
   "source": "",
   "id": "bb96dabbaa4866ed"
  }
 ],
 "metadata": {
  "kernelspec": {
   "display_name": "Python 3",
   "language": "python",
   "name": "python3"
  },
  "language_info": {
   "codemirror_mode": {
    "name": "ipython",
    "version": 2
   },
   "file_extension": ".py",
   "mimetype": "text/x-python",
   "name": "python",
   "nbconvert_exporter": "python",
   "pygments_lexer": "ipython2",
   "version": "2.7.6"
  }
 },
 "nbformat": 4,
 "nbformat_minor": 5
}
