{
 "cells": [
  {
   "cell_type": "code",
   "id": "initial_id",
   "metadata": {
    "collapsed": true,
    "ExecuteTime": {
     "end_time": "2024-12-22T18:31:49.522188Z",
     "start_time": "2024-12-22T18:31:16.927568Z"
    }
   },
   "source": [
    "import pandas as pd\n",
    "from qiskit import transpile\n",
    "from tabulate import tabulate\n",
    "from qiskit import QuantumRegister, ClassicalRegister, QuantumCircuit\n",
    "from qiskit_aer import AerSimulator\n",
    "from numpy import pi"
   ],
   "outputs": [],
   "execution_count": 1
  },
  {
   "metadata": {
    "ExecuteTime": {
     "end_time": "2024-12-22T18:32:10.397180Z",
     "start_time": "2024-12-22T18:32:10.386433Z"
    }
   },
   "cell_type": "code",
   "source": [
    "def get_df_combined(circuit, shots):\n",
    "    simulator = AerSimulator()\n",
    "    compiled_circuit = transpile(circuit, simulator)\n",
    "    result = simulator.run(compiled_circuit, shots=shots).result()\n",
    "\n",
    "    counts = result.get_counts()\n",
    "    \n",
    "    all_states = ['{0:0{1}b}'.format(i, circuit.num_qubits) for i in range(2**circuit.num_qubits)]\n",
    "    data = {'Shots': shots}\n",
    "    for state in all_states:\n",
    "        data[f'{state}'] = counts.get(state, 0)\n",
    "        \n",
    "    data_freq = {'Shots': shots}\n",
    "    for state in all_states:\n",
    "        data_freq[f'{state}'] = data[f'{state}'] / shots\n",
    "\n",
    "    df_quantity = pd.DataFrame([data])\n",
    "    df_frequency = pd.DataFrame([data_freq])\n",
    "\n",
    "    df_combined = pd.concat([df_quantity, df_frequency.iloc[:, 1:]], axis=1)\n",
    "    df_combined.columns = ['Shots'] + [f'{col} (Q)' for col in df_quantity.columns[1:]] + [f'{col} (F)' for col in df_frequency.columns[1:]]\n",
    "    \n",
    "    return df_combined"
   ],
   "id": "c78858dbc8124cb0",
   "outputs": [],
   "execution_count": 2
  },
  {
   "metadata": {},
   "cell_type": "markdown",
   "source": "## 3.1",
   "id": "829031d1303cd78b"
  },
  {
   "metadata": {
    "ExecuteTime": {
     "end_time": "2024-12-22T18:36:04.129882Z",
     "start_time": "2024-12-22T18:36:03.819520Z"
    }
   },
   "cell_type": "code",
   "source": [
    "qreg_q = QuantumRegister(2, 'q')\n",
    "creg_c = ClassicalRegister(1, 'c')\n",
    "circuit = QuantumCircuit(qreg_q, creg_c)\n",
    "\n",
    "circuit.ry(1.6709637, qreg_q[0])\n",
    "circuit.cx(qreg_q[0], qreg_q[1])\n",
    "circuit.z(qreg_q[1])\n",
    "\n",
    "circuit.measure_all()\n",
    "shots = 1024\n",
    "df_combined = get_df_combined(circuit, shots)\n",
    "\n",
    "print(tabulate(df_combined, headers='keys', tablefmt='pretty', stralign='center'))"
   ],
   "id": "3862dc2ce9e63d66",
   "outputs": [
    {
     "name": "stdout",
     "output_type": "stream",
     "text": [
      "+---+--------+--------+--------+--------+--------+--------+--------+--------+--------+\n",
      "|   | Shots  | 00 (Q) | 01 (Q) | 10 (Q) | 11 (Q) | 00 (F) | 01 (F) | 10 (F) | 11 (F) |\n",
      "+---+--------+--------+--------+--------+--------+--------+--------+--------+--------+\n",
      "| 0 | 1024.0 |  0.0   |  0.0   |  0.0   |  0.0   |  0.0   |  0.0   |  0.0   |  0.0   |\n",
      "+---+--------+--------+--------+--------+--------+--------+--------+--------+--------+\n"
     ]
    }
   ],
   "execution_count": 3
  },
  {
   "metadata": {},
   "cell_type": "markdown",
   "source": "## 3.2",
   "id": "c05c4c9066c8763d"
  },
  {
   "metadata": {
    "ExecuteTime": {
     "end_time": "2024-12-22T17:05:51.842481Z",
     "start_time": "2024-12-22T17:05:51.804929Z"
    }
   },
   "cell_type": "code",
   "source": [
    "qreg_q = QuantumRegister(2, 'q')\n",
    "\n",
    "circuit = QuantumCircuit(qreg_q)\n",
    "\n",
    "circuit.h(qreg_q[0])\n",
    "circuit.cx(qreg_q[0], qreg_q[1])\n",
    "circuit.barrier(qreg_q)\n",
    "# @phaseDisk\n",
    "\n",
    "circuit.measure_all()\n",
    "shots = 1024\n",
    "df_combined = get_df_combined(circuit, shots)\n",
    "\n",
    "print(tabulate(df_combined, headers='keys', tablefmt='pretty', stralign='center'))"
   ],
   "id": "8f5919afe922c4e8",
   "outputs": [
    {
     "name": "stdout",
     "output_type": "stream",
     "text": [
      "+---+--------+--------+--------+--------+--------+--------------+--------+--------+--------------+\n",
      "|   | Shots  | 00 (Q) | 01 (Q) | 10 (Q) | 11 (Q) |    00 (F)    | 01 (F) | 10 (F) |    11 (F)    |\n",
      "+---+--------+--------+--------+--------+--------+--------------+--------+--------+--------------+\n",
      "| 0 | 1024.0 | 501.0  |  0.0   |  0.0   | 523.0  | 0.4892578125 |  0.0   |  0.0   | 0.5107421875 |\n",
      "+---+--------+--------+--------+--------+--------+--------------+--------+--------+--------------+\n"
     ]
    }
   ],
   "execution_count": 36
  },
  {
   "metadata": {},
   "cell_type": "markdown",
   "source": "## 3.3",
   "id": "995256499f5b400c"
  },
  {
   "metadata": {
    "ExecuteTime": {
     "end_time": "2024-12-22T17:05:51.897844Z",
     "start_time": "2024-12-22T17:05:51.849416Z"
    }
   },
   "cell_type": "code",
   "source": [
    "qreg_q = QuantumRegister(2, 'q')\n",
    "\n",
    "circuit = QuantumCircuit(qreg_q)\n",
    "\n",
    "circuit.reset(qreg_q[0])\n",
    "circuit.reset(qreg_q[1])\n",
    "circuit.h(qreg_q[0])\n",
    "circuit.z(qreg_q[0])\n",
    "circuit.cx(qreg_q[0], qreg_q[1])\n",
    "circuit.x(qreg_q[0])\n",
    "\n",
    "circuit.measure_all()\n",
    "shots = 1024\n",
    "df_combined = get_df_combined(circuit, shots)\n",
    "\n",
    "print(tabulate(df_combined, headers='keys', tablefmt='pretty', stralign='center'))"
   ],
   "id": "13c6692c075b1366",
   "outputs": [
    {
     "name": "stdout",
     "output_type": "stream",
     "text": [
      "+---+--------+--------+--------+--------+--------+--------+--------------+--------------+--------+\n",
      "|   | Shots  | 00 (Q) | 01 (Q) | 10 (Q) | 11 (Q) | 00 (F) |    01 (F)    |    10 (F)    | 11 (F) |\n",
      "+---+--------+--------+--------+--------+--------+--------+--------------+--------------+--------+\n",
      "| 0 | 1024.0 |  0.0   | 503.0  | 521.0  |  0.0   |  0.0   | 0.4912109375 | 0.5087890625 |  0.0   |\n",
      "+---+--------+--------+--------+--------+--------+--------+--------------+--------------+--------+\n"
     ]
    }
   ],
   "execution_count": 37
  },
  {
   "metadata": {},
   "cell_type": "markdown",
   "source": "## 3.4",
   "id": "504b10010f3c95db"
  },
  {
   "metadata": {
    "ExecuteTime": {
     "end_time": "2024-12-22T17:05:51.950451Z",
     "start_time": "2024-12-22T17:05:51.913475Z"
    }
   },
   "cell_type": "code",
   "source": [
    "qreg_q = QuantumRegister(2, 'q')\n",
    "\n",
    "circuit = QuantumCircuit(qreg_q)\n",
    "\n",
    "circuit.reset(qreg_q[0])\n",
    "circuit.reset(qreg_q[1])\n",
    "circuit.h(qreg_q[0])\n",
    "circuit.x(qreg_q[1])\n",
    "circuit.cx(qreg_q[0], qreg_q[1])\n",
    "\n",
    "circuit.measure_all()\n",
    "shots = 1024\n",
    "df_combined = get_df_combined(circuit, shots)\n",
    "\n",
    "print(tabulate(df_combined, headers='keys', tablefmt='pretty', stralign='center'))"
   ],
   "id": "dcc209a552727aa1",
   "outputs": [
    {
     "name": "stdout",
     "output_type": "stream",
     "text": [
      "+---+--------+--------+--------+--------+--------+--------+--------------+--------------+--------+\n",
      "|   | Shots  | 00 (Q) | 01 (Q) | 10 (Q) | 11 (Q) | 00 (F) |    01 (F)    |    10 (F)    | 11 (F) |\n",
      "+---+--------+--------+--------+--------+--------+--------+--------------+--------------+--------+\n",
      "| 0 | 1024.0 |  0.0   | 521.0  | 503.0  |  0.0   |  0.0   | 0.5087890625 | 0.4912109375 |  0.0   |\n",
      "+---+--------+--------+--------+--------+--------+--------+--------------+--------------+--------+\n"
     ]
    }
   ],
   "execution_count": 38
  },
  {
   "metadata": {},
   "cell_type": "markdown",
   "source": "### 3.5",
   "id": "9a367e584474fb1"
  },
  {
   "metadata": {
    "ExecuteTime": {
     "end_time": "2024-12-22T17:15:03.812396Z",
     "start_time": "2024-12-22T17:15:03.770502Z"
    }
   },
   "cell_type": "code",
   "source": [
    "qreg_q = QuantumRegister(2, 'q')\n",
    "\n",
    "circuit = QuantumCircuit(qreg_q)\n",
    "\n",
    "circuit.ry(pi / 3, qreg_q[0])\n",
    "circuit.x(qreg_q[0])\n",
    "circuit.cx(qreg_q[0], qreg_q[1])\n",
    "circuit.x(qreg_q[0])\n",
    "circuit.z(qreg_q[1])\n",
    "\n",
    "circuit.measure_all()\n",
    "shots = 1024\n",
    "df_combined = get_df_combined(circuit, shots)\n",
    "\n",
    "print(tabulate(df_combined, headers='keys', tablefmt='pretty', stralign='center'))"
   ],
   "id": "bc995bf59e394c4b",
   "outputs": [
    {
     "name": "stdout",
     "output_type": "stream",
     "text": [
      "+---+--------+--------+--------+--------+--------+--------+--------------+--------------+--------+\n",
      "|   | Shots  | 00 (Q) | 01 (Q) | 10 (Q) | 11 (Q) | 00 (F) |    01 (F)    |    10 (F)    | 11 (F) |\n",
      "+---+--------+--------+--------+--------+--------+--------+--------------+--------------+--------+\n",
      "| 0 | 1024.0 |  0.0   | 261.0  | 763.0  |  0.0   |  0.0   | 0.2548828125 | 0.7451171875 |  0.0   |\n",
      "+---+--------+--------+--------+--------+--------+--------+--------------+--------------+--------+\n"
     ]
    }
   ],
   "execution_count": 43
  },
  {
   "metadata": {},
   "cell_type": "markdown",
   "source": "### 3.6 - 13",
   "id": "716e0134cb740edc"
  },
  {
   "metadata": {
    "ExecuteTime": {
     "end_time": "2024-12-22T18:05:53.637965Z",
     "start_time": "2024-12-22T18:05:53.587682Z"
    }
   },
   "cell_type": "code",
   "source": [
    "qreg_q = QuantumRegister(3, 'q')\n",
    "\n",
    "circuit = QuantumCircuit(qreg_q)\n",
    "\n",
    "circuit.reset(qreg_q[0])\n",
    "circuit.reset(qreg_q[1])\n",
    "circuit.reset(qreg_q[2])\n",
    "circuit.ry(2.094, qreg_q[0])\n",
    "circuit.x(qreg_q[1])\n",
    "circuit.cx(qreg_q[0], qreg_q[2])\n",
    "# @columns [0,0,0,1,1,2]\n",
    "\n",
    "circuit.measure_all()\n",
    "shots = 1024\n",
    "df_combined = get_df_combined(circuit, shots)\n",
    "\n",
    "print(tabulate(df_combined, headers='keys', tablefmt='pretty', stralign='center'))"
   ],
   "id": "877c5b923a6c60d8",
   "outputs": [
    {
     "name": "stdout",
     "output_type": "stream",
     "text": [
      "+---+--------+---------+---------+---------+---------+---------+---------+---------+---------+---------+---------+------------+---------+---------+---------+---------+------------+\n",
      "|   | Shots  | 000 (Q) | 001 (Q) | 010 (Q) | 011 (Q) | 100 (Q) | 101 (Q) | 110 (Q) | 111 (Q) | 000 (F) | 001 (F) |  010 (F)   | 011 (F) | 100 (F) | 101 (F) | 110 (F) |  111 (F)   |\n",
      "+---+--------+---------+---------+---------+---------+---------+---------+---------+---------+---------+---------+------------+---------+---------+---------+---------+------------+\n",
      "| 0 | 1024.0 |   0.0   |   0.0   |  276.0  |   0.0   |   0.0   |   0.0   |   0.0   |  748.0  |   0.0   |   0.0   | 0.26953125 |   0.0   |   0.0   |   0.0   |   0.0   | 0.73046875 |\n",
      "+---+--------+---------+---------+---------+---------+---------+---------+---------+---------+---------+---------+------------+---------+---------+---------+---------+------------+\n"
     ]
    }
   ],
   "execution_count": 44
  },
  {
   "metadata": {},
   "cell_type": "markdown",
   "source": "### 3.6 - 5",
   "id": "ef8f646b6d21d3f6"
  },
  {
   "metadata": {
    "ExecuteTime": {
     "end_time": "2024-12-22T18:10:01.455338Z",
     "start_time": "2024-12-22T18:10:01.406837Z"
    }
   },
   "cell_type": "code",
   "source": [
    "qreg_q = QuantumRegister(3, 'q')\n",
    "\n",
    "circuit = QuantumCircuit(qreg_q)\n",
    "\n",
    "circuit.reset(qreg_q[0])\n",
    "circuit.reset(qreg_q[1])\n",
    "circuit.reset(qreg_q[2])\n",
    "circuit.ry(1.67, qreg_q[0])\n",
    "circuit.x(qreg_q[1])\n",
    "circuit.cx(qreg_q[0], qreg_q[2])\n",
    "# @columns [0,0,0,1,1,2]\n",
    "\n",
    "circuit.measure_all()\n",
    "shots = 1024\n",
    "df_combined = get_df_combined(circuit, shots)\n",
    "\n",
    "print(tabulate(df_combined, headers='keys', tablefmt='pretty', stralign='center'))"
   ],
   "id": "14f360fd6333acd9",
   "outputs": [
    {
     "name": "stdout",
     "output_type": "stream",
     "text": [
      "+---+--------+---------+---------+---------+---------+---------+---------+---------+---------+---------+---------+---------+---------+---------+---------+---------+---------+\n",
      "|   | Shots  | 000 (Q) | 001 (Q) | 010 (Q) | 011 (Q) | 100 (Q) | 101 (Q) | 110 (Q) | 111 (Q) | 000 (F) | 001 (F) | 010 (F) | 011 (F) | 100 (F) | 101 (F) | 110 (F) | 111 (F) |\n",
      "+---+--------+---------+---------+---------+---------+---------+---------+---------+---------+---------+---------+---------+---------+---------+---------+---------+---------+\n",
      "| 0 | 1024.0 |   0.0   |   0.0   |  448.0  |   0.0   |   0.0   |   0.0   |   0.0   |  576.0  |   0.0   |   0.0   | 0.4375  |   0.0   |   0.0   |   0.0   |   0.0   | 0.5625  |\n",
      "+---+--------+---------+---------+---------+---------+---------+---------+---------+---------+---------+---------+---------+---------+---------+---------+---------+---------+\n"
     ]
    }
   ],
   "execution_count": 46
  }
 ],
 "metadata": {
  "kernelspec": {
   "display_name": "Python 3",
   "language": "python",
   "name": "python3"
  },
  "language_info": {
   "codemirror_mode": {
    "name": "ipython",
    "version": 2
   },
   "file_extension": ".py",
   "mimetype": "text/x-python",
   "name": "python",
   "nbconvert_exporter": "python",
   "pygments_lexer": "ipython2",
   "version": "2.7.6"
  }
 },
 "nbformat": 4,
 "nbformat_minor": 5
}
